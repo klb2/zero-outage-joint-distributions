{
 "cells": [
  {
   "cell_type": "markdown",
   "metadata": {},
   "source": [
    "# Maximum Ratio Combining"
   ]
  },
  {
   "cell_type": "markdown",
   "metadata": {},
   "source": [
    "_Author:_ Karl-Ludwig Besser, Technische Universität Braunschweig\n",
    "\n",
    "This notebook is part of the paper \"On Fading Channel Dependency Structures with a Positive Zero-Outage Capacity\" ([arXiv:XXX](https://arxiv.org)).  \n",
    "If you use any of this work, please cite the above paper."
   ]
  },
  {
   "cell_type": "markdown",
   "metadata": {},
   "source": [
    "> If you are not familiar with Jupyter notebooks: The easiest way to use this notebook interactively, is to hit `Kernel --> Restart & Run All` in the menu. The will execute all cells and enable the interactive elements of the plots.  \n",
    "> Alternatively, you can execute the cells one by one using Shift+Return"
   ]
  },
  {
   "cell_type": "code",
   "execution_count": null,
   "metadata": {},
   "outputs": [],
   "source": [
    "import numpy as np\n",
    "from scipy import stats\n",
    "from scipy import optimize\n",
    "%matplotlib widget\n",
    "import matplotlib.pyplot as plt\n",
    "from ipywidgets import interact"
   ]
  },
  {
   "cell_type": "code",
   "execution_count": null,
   "metadata": {},
   "outputs": [],
   "source": [
    "from maximum_ratio_combining import (max_zoc_inner_bound_mrc_homog, max_zoc_outer_bound_mrc_homog,\n",
    "                                     zoc_copula_t_mrc_heterog, max_zoc_outer_bound_joint_mix_mrc_homog)\n",
    "from utils import w_copula"
   ]
  },
  {
   "cell_type": "code",
   "execution_count": null,
   "metadata": {},
   "outputs": [],
   "source": [
    "@np.vectorize\n",
    "def my_copula2(a, b, t=.5):\n",
    "    if a < t and b < t:\n",
    "        c = np.maximum(a+b-t, 0)\n",
    "    else:\n",
    "        c = np.minimum(a, b)\n",
    "    return c"
   ]
  },
  {
   "cell_type": "markdown",
   "metadata": {},
   "source": [
    "# General Idea"
   ]
  },
  {
   "cell_type": "markdown",
   "metadata": {},
   "source": [
    "The following plot illustrates the general idea of finding the ZOC for dependent fading channels.\n",
    "\n",
    "In the example, the joint distribution of two countermonotonic Rayleigh fading channels is shown. The first link ($x$-axis) has an SNR of $5$ dB while the second link ($y$-axis) has an SNR of $-5$ dB.\n",
    "\n",
    "You can see the following in the plots:\n",
    "- The red line highlights the boundary of the support.\n",
    "- The white dashed line corresponds to $s_{\\text{MRC}}=2^R-1$ for MRC at the receiver. For MRC, it is given by $s_{\\text{MRC}}=x+y$. The details can be found in the paper. \n",
    "- The blue dashed line corresponds to $s_{\\text{SC}}=2^R-1$ for SC at the receiver. For SC, it is given by $s_{\\text{SC}}=\\max\\{x, y\\}$. The details can be found in the paper.\n",
    "\n",
    "The maximum $s$ that is still below the red line, is the corresponding to the ZOC."
   ]
  },
  {
   "cell_type": "code",
   "execution_count": null,
   "metadata": {},
   "outputs": [],
   "source": [
    "def plot_two_d_problem():\n",
    "    a, stepsize = np.linspace(0, 2, 150, retstep=True)\n",
    "    A, B = np.meshgrid(a, a)\n",
    "    fig, ax = plt.subplots(1,1)\n",
    "    snr_x_db=5\n",
    "    snr_y_db=-5\n",
    "    \n",
    "    def update_plot(s_mrc=0, s_sc=0):\n",
    "        snr_x = 10**(snr_x_db/10.)\n",
    "        snr_y = 10**(snr_y_db/10.)\n",
    "        rv_x = stats.expon(scale=snr_x)\n",
    "        rv_y = stats.expon(scale=snr_y)\n",
    "        cdf_x = rv_x.cdf(A)\n",
    "        cdf_y = rv_y.cdf(B)\n",
    "        joint_cdf = w_copula(cdf_x, cdf_y)\n",
    "        ax.clear()\n",
    "        _gradx = np.gradient(joint_cdf, stepsize, axis=0)\n",
    "        joint_pdf = np.gradient(_gradx, stepsize, axis=1)\n",
    "        ax.set_xlim([min(a), max(a)])\n",
    "        ax.set_ylim([min(a), max(a)])\n",
    "        ax.set_xlabel(\"x\")\n",
    "        ax.set_ylabel(\"y\")\n",
    "        ax.pcolormesh(A, B, joint_pdf, vmin=0, shading=\"auto\")\n",
    "        ax.plot(a, rv_y.ppf(1-rv_x.cdf(a)), 'r-')\n",
    "        ax.plot([0, s_sc, s_sc], [s_sc, s_sc, 0], 'c--')\n",
    "        ax.plot([0, s_mrc], [s_mrc, 0], 'w--')\n",
    "        \n",
    "    interact(update_plot, s_mrc=(0, 2, 0.01), s_sc=(0, 1, .01))"
   ]
  },
  {
   "cell_type": "code",
   "execution_count": null,
   "metadata": {},
   "outputs": [],
   "source": [
    "plot_two_d_problem()"
   ]
  },
  {
   "cell_type": "markdown",
   "metadata": {},
   "source": [
    "# Rayleigh Fading"
   ]
  },
  {
   "cell_type": "markdown",
   "metadata": {},
   "source": [
    "The first example is Rayleigh fading. In this case, the channel gains $|H_i|^2=X_i$ are exponentially distributed according to $X_i\\sim\\exp(1/\\rho_i)$, where $\\rho_i$ denotes the SNR of transmission link $i$."
   ]
  },
  {
   "cell_type": "code",
   "execution_count": null,
   "metadata": {},
   "outputs": [],
   "source": [
    "from rayleigh_fading import zoc_copula_t_mrc_heterog_rayleigh"
   ]
  },
  {
   "cell_type": "markdown",
   "metadata": {},
   "source": [
    "## Two-Dimensional Heterogeneous Case"
   ]
  },
  {
   "cell_type": "code",
   "execution_count": null,
   "metadata": {},
   "outputs": [],
   "source": [
    "def plot_heterog_rayleigh():\n",
    "    a, stepsize = np.linspace(0, 3, 150, retstep=True)\n",
    "    A, B = np.meshgrid(a, a)\n",
    "    fig, ax = plt.subplots(1,1)\n",
    "    \n",
    "    def update_plot(t=.5, snr_x_db=0, snr_y_db=0):\n",
    "        snr_x = 10**(snr_x_db/10.)\n",
    "        snr_y = 10**(snr_y_db/10.)\n",
    "        rv_x = stats.expon(scale=snr_x)\n",
    "        rv_y = stats.expon(scale=snr_y)\n",
    "        cdf_x = rv_x.cdf(A)\n",
    "        cdf_y = rv_y.cdf(B)\n",
    "        joint_cdf = my_copula2(cdf_x, cdf_y, t=t)\n",
    "        ax.clear()\n",
    "        _gradx = np.gradient(joint_cdf, stepsize, axis=0)\n",
    "        joint_pdf = np.gradient(_gradx, stepsize, axis=1)\n",
    "        ax.set_xlim([min(a), max(a)])\n",
    "        ax.set_ylim([min(a), max(a)])\n",
    "        ax.set_xlabel(\"$X_1$\")\n",
    "        ax.set_ylabel(\"$X_2$\")\n",
    "        ax.pcolormesh(A, B, joint_pdf, vmin=0, shading=\"auto\")\n",
    "        ax.plot(a, rv_y.ppf(t-rv_x.cdf(a)), 'r-')\n",
    "        zoc_mrc = zoc_copula_t_mrc_heterog_rayleigh(t, 1/snr_x, 1/snr_y)\n",
    "        s_zoc = 2**zoc_mrc - 1\n",
    "        ax.plot([0, s_zoc], [s_zoc, 0], 'w--')\n",
    "        \n",
    "    interact(update_plot, t=(0, 1, 0.1), snr_x_db=(-5, 10, 1), snr_y_db=(-5, 10, 1))"
   ]
  },
  {
   "cell_type": "markdown",
   "metadata": {},
   "source": [
    "In the two-dimensional case, a positive ZOC is possible, if the two channel gains $(X_1, X_2)$ follow a specific copula, e.g., $C_t$.\n",
    "\n",
    "In the plot below, this joint distribution is shown. You can change the parameter $t$ and the SNRs $\\rho_i$.\n",
    "A value of $t=0$ corresponds to comonotonic channel gains; while a value of $t=1$ corresponds to countermonotonic channel gains."
   ]
  },
  {
   "cell_type": "code",
   "execution_count": null,
   "metadata": {},
   "outputs": [],
   "source": [
    "plot_heterog_rayleigh()"
   ]
  },
  {
   "cell_type": "code",
   "execution_count": null,
   "metadata": {},
   "outputs": [],
   "source": [
    "def plot_zero_out_rayleigh_grid():\n",
    "    snr_db = np.linspace(-5, 15, 50)\n",
    "    SNR_X_DB, SNR_Y_DB = np.meshgrid(snr_db, snr_db)\n",
    "    SNR_X = 10**(SNR_X_DB/10.)\n",
    "    SNR_Y = 10**(SNR_Y_DB/10.)\n",
    "    fig, ax = plt.subplots(1,1)\n",
    "    def plot_copula(t=.5):\n",
    "        LX = 1/(SNR_X)\n",
    "        LY = 1/(SNR_Y)\n",
    "        ax.clear()\n",
    "        ax.set_xlim([min(snr_db), max(snr_db)])\n",
    "        ax.set_ylim([min(snr_db), max(snr_db)])\n",
    "        ax.set_xlabel(\"$\\\\rho_1$ [dB]\")\n",
    "        ax.set_ylabel(\"$\\\\rho_2$ [dB]\")\n",
    "        capac = zoc_copula_t_mrc_heterog_rayleigh(t, LX, LY)\n",
    "        ax.pcolormesh(SNR_X_DB, SNR_Y_DB, capac, vmin=0, alpha=.5, shading='auto')\n",
    "        _contour = ax.contour(SNR_X_DB, SNR_Y_DB, capac, vmin=0)\n",
    "        ax.clabel(_contour, inline=1, fontsize=9)\n",
    "    interact(plot_copula, t=(0, 1, .01))"
   ]
  },
  {
   "cell_type": "code",
   "execution_count": null,
   "metadata": {},
   "outputs": [],
   "source": [
    "plot_zero_out_rayleigh_grid()"
   ]
  },
  {
   "cell_type": "markdown",
   "metadata": {},
   "source": [
    "## N-Dimensional Homogeneous Case"
   ]
  },
  {
   "cell_type": "markdown",
   "metadata": {},
   "source": [
    "In the $n$-dimensional case, we are able to provide bounds on the maximum ZOC for homogenoues links, i.e, all $X_i$ follow the same marginal distribution.\n",
    "\n",
    "Detailed information about the bounds can be found in the paper."
   ]
  },
  {
   "cell_type": "code",
   "execution_count": null,
   "metadata": {},
   "outputs": [],
   "source": [
    "def plot_homog_rayleigh():\n",
    "    n = np.arange(2, 21)\n",
    "    fig, ax = plt.subplots(1,1)\n",
    "    funcs = {\"Inner Bound\": max_zoc_inner_bound_mrc_homog,\n",
    "             \"Outer Bound - Joint Mixability\": max_zoc_outer_bound_joint_mix_mrc_homog,\n",
    "             \"Outer Bound - Frechet-Hoeffding\": max_zoc_outer_bound_mrc_homog}\n",
    "    plots = {k: ax.plot(n, np.zeros_like(n), 'o-', label=k)[0] for k in funcs.keys()}\n",
    "    ax.legend()\n",
    "    ax.set_ylim([0, 10])\n",
    "    ax.set_xlabel(\"n\")\n",
    "    ax.set_ylabel(\"Max ZOC\")\n",
    "    \n",
    "    def update_plot(snr_db=5.):\n",
    "        snr = 10**(snr_db/10.)\n",
    "        dist = stats.expon(scale=snr)\n",
    "        for _name, _func in funcs.items():\n",
    "            plots[_name].set_ydata(_func(dist, n))\n",
    "        \n",
    "    interact(update_plot, snr_db=(0., 10., .2))"
   ]
  },
  {
   "cell_type": "markdown",
   "metadata": {},
   "source": [
    "In the plot below, the different bounds on the maximum ZOC for $n$ homogeneous Rayleigh fading links are shown."
   ]
  },
  {
   "cell_type": "code",
   "execution_count": null,
   "metadata": {},
   "outputs": [],
   "source": [
    "plot_homog_rayleigh()"
   ]
  },
  {
   "cell_type": "markdown",
   "metadata": {},
   "source": [
    "# Nakagami-m Fading"
   ]
  },
  {
   "cell_type": "markdown",
   "metadata": {},
   "source": [
    "Similarly to the above [Rayleigh fading example](#Rayleigh-Fading), we provide interactive plots for Nakagami-$m$ fading below."
   ]
  },
  {
   "cell_type": "markdown",
   "metadata": {},
   "source": [
    "## Two-Dimensional Heterogeneous Case"
   ]
  },
  {
   "cell_type": "code",
   "execution_count": null,
   "metadata": {},
   "outputs": [],
   "source": [
    "def plot_heterog_nakagami():\n",
    "    a, stepsize = np.linspace(0, 5, 150, retstep=True)\n",
    "    A, B = np.meshgrid(a, a)\n",
    "    fig, ax = plt.subplots(1,1)\n",
    "    \n",
    "    def update_plot(t=0.5, snr_x_db=0, snr_y_db=0, m=5):\n",
    "        snr_x = 10**(snr_x_db/10.)\n",
    "        snr_y = 10**(snr_y_db/10.)\n",
    "        rv_x = stats.gamma(a=m, scale=snr_x/m)\n",
    "        rv_y = stats.gamma(a=m, scale=snr_y/m)\n",
    "        cdf_x = rv_x.cdf(A)\n",
    "        cdf_y = rv_y.cdf(B)\n",
    "        joint_cdf = my_copula2(cdf_x, cdf_y, t=t)\n",
    "        ax.clear()\n",
    "        _gradx = np.gradient(joint_cdf, stepsize, axis=0)\n",
    "        joint_pdf = np.gradient(_gradx, stepsize, axis=1)\n",
    "        ax.set_xlim([0, 5])\n",
    "        ax.set_ylim([0, 5])\n",
    "        ax.pcolormesh(A, B, joint_pdf, vmin=0, shading=\"auto\")\n",
    "        ax.plot(a, rv_y.ppf(t-rv_x.cdf(a)), 'r-')\n",
    "        zoc_mrc = zoc_copula_t_mrc_heterog(t, rv_x, rv_y)\n",
    "        s_zoc = 2**zoc_mrc - 1\n",
    "        ax.plot([0, s_zoc], [s_zoc, 0], 'w--')\n",
    "        \n",
    "    interact(update_plot, t=(0, 1, .1), snr_x_db=(-5, 10, 1), snr_y_db=(-5, 10, 1), m=(1, 10, 1))"
   ]
  },
  {
   "cell_type": "code",
   "execution_count": null,
   "metadata": {},
   "outputs": [],
   "source": [
    "plot_heterog_nakagami()"
   ]
  },
  {
   "cell_type": "markdown",
   "metadata": {},
   "source": [
    "## N-Dimensional Homogeneous Case"
   ]
  },
  {
   "cell_type": "code",
   "execution_count": null,
   "metadata": {},
   "outputs": [],
   "source": [
    "def plot_homog_nakagami():\n",
    "    n = np.arange(2, 21)\n",
    "    fig, ax = plt.subplots(1,1)\n",
    "    funcs = {\"Inner Bound\": max_zoc_inner_bound_mrc_homog,\n",
    "             \"Outer Bound - Joint Mixability\": max_zoc_outer_bound_joint_mix_mrc_homog,\n",
    "             \"Outer Bound - Frechet-Hoeffding\": max_zoc_outer_bound_mrc_homog}\n",
    "    plots = {k: ax.plot(n, np.zeros_like(n), 'o-', label=k)[0] for k in funcs.keys()}\n",
    "    ax.legend()\n",
    "    ax.set_ylim([0, 10])\n",
    "    ax.set_xlabel(\"n\")\n",
    "    ax.set_ylabel(\"Max ZOC\")\n",
    "    \n",
    "    def update_plot(snr_db=5., m=3):\n",
    "        snr = 10**(snr_db/10.)\n",
    "        dist = stats.gamma(a=m, scale=snr/m)\n",
    "        for _name, _func in funcs.items():\n",
    "            plots[_name].set_ydata(_func(dist, n))\n",
    "        \n",
    "    interact(update_plot, snr_db=(0., 10., .2), m=(1, 10, 1))"
   ]
  },
  {
   "cell_type": "code",
   "execution_count": null,
   "metadata": {},
   "outputs": [],
   "source": [
    "plot_homog_nakagami()"
   ]
  }
 ],
 "metadata": {
  "kernelspec": {
   "display_name": "Python 3",
   "language": "python",
   "name": "python3"
  },
  "language_info": {
   "codemirror_mode": {
    "name": "ipython",
    "version": 3
   },
   "file_extension": ".py",
   "mimetype": "text/x-python",
   "name": "python",
   "nbconvert_exporter": "python",
   "pygments_lexer": "ipython3",
   "version": "3.9.1"
  }
 },
 "nbformat": 4,
 "nbformat_minor": 2
}
