{
 "cells": [
  {
   "cell_type": "markdown",
   "metadata": {},
   "source": [
    "# Rayleigh Fading with Positive ZOCs"
   ]
  },
  {
   "cell_type": "markdown",
   "metadata": {},
   "source": [
    "_Author:_ Karl-Ludwig Besser, Technische Universität Braunschweig\n",
    "\n",
    "This notebook is part of the paper \"On the Set of Joint Rayleigh Fading Distributions Achieving Positive Zero-Outage Capacities\" ([doi:XXX](https://doi.org/XXX)).  \n",
    "If you use any of this work, please cite the above paper."
   ]
  },
  {
   "cell_type": "markdown",
   "metadata": {},
   "source": [
    "> If you are not familiar with Jupyter notebooks: The easiest way to use this notebook interactively, is to hit `Kernel --> Restart & Run All` in the menu. The will execute all cells and enable the interactive elements of the plots.  \n",
    "> Alternatively, you can execute the cells one by one using Shift+Return"
   ]
  },
  {
   "cell_type": "code",
   "execution_count": null,
   "metadata": {},
   "outputs": [],
   "source": [
    "import numpy as np\n",
    "from scipy import stats\n",
    "from scipy import optimize\n",
    "%matplotlib notebook\n",
    "import matplotlib.pyplot as plt\n",
    "from mpl_toolkits.mplot3d import Axes3D\n",
    "from ipywidgets import interact"
   ]
  },
  {
   "cell_type": "code",
   "execution_count": null,
   "metadata": {},
   "outputs": [],
   "source": [
    "#https://docs.python.org/3/library/itertools.html#itertools-recipes\n",
    "from itertools import tee\n",
    "def pairwise(iterable):\n",
    "    \"s -> (s0,s1), (s1,s2), (s2, s3), ...\"\n",
    "    a, b = tee(iterable)\n",
    "    next(b, None)\n",
    "    return zip(a, b)"
   ]
  },
  {
   "cell_type": "code",
   "execution_count": null,
   "metadata": {},
   "outputs": [],
   "source": [
    "from rayleigh_fading import zero_outage_capacity\n",
    "from copulas import zoc_copula2 as zoc_copula"
   ]
  },
  {
   "cell_type": "markdown",
   "metadata": {},
   "source": [
    "## Joint Distributions"
   ]
  },
  {
   "cell_type": "markdown",
   "metadata": {},
   "source": [
    "In the following, we show that joint distributions exist, for which two Rayleigh fading links can achieve a positive zero-outage capacity (ZOC).\n",
    "\n",
    "The maximum ZOC is achieved by countermonotonic fading coefficients. Using a parameterized copula, we show that there exist joint distributions corresponding to each ZOC between zero and the maximum.\n",
    "\n",
    "This means that there is an infinite number of joint distributions with positive ZOCs."
   ]
  },
  {
   "cell_type": "code",
   "execution_count": null,
   "metadata": {},
   "outputs": [],
   "source": [
    "def _opt_x(x, t, rv_x, rv_y):\n",
    "    return rv_y.pdf(rv_y.ppf(t-rv_x.cdf(x)))-rv_x.pdf(x)\n",
    "\n",
    "def plot_joint_density():\n",
    "    a, stepsize = np.linspace(0, 5, 150, retstep=True)\n",
    "    A, B = np.meshgrid(a, a)\n",
    "    fig, ax = plt.subplots(1,1)\n",
    "    def plot_copula(t=.5, snr_x_db=0, snr_y_db=0):\n",
    "        snr_x = 10**(snr_x_db/10.)\n",
    "        snr_y = 10**(snr_y_db/10.)\n",
    "        rv_x = stats.expon(scale=snr_x)\n",
    "        rv_y = stats.expon(scale=snr_y)\n",
    "        cdf_x = rv_x.cdf(A)\n",
    "        cdf_y = rv_y.cdf(B)\n",
    "        joint_cdf = zoc_copula(cdf_x, cdf_y, t=t)\n",
    "        zoc = zero_outage_capacity(t, 1./snr_x, 1./snr_y)\n",
    "        s_opt = 2**zoc - 1\n",
    "        ax.clear()\n",
    "        _gradx = np.gradient(joint_cdf, stepsize, axis=0)\n",
    "        joint_pdf = np.gradient(_gradx, stepsize, axis=1)\n",
    "        ax.set_xlim([0, 5])\n",
    "        ax.set_ylim([0, 5])\n",
    "        ax.pcolormesh(A, B, joint_pdf, vmin=0, shading='auto')\n",
    "        ax.plot(a, rv_y.ppf(t-rv_x.cdf(a)), 'r-')\n",
    "        ax.plot([0, rv_y.ppf(t)], [rv_y.ppf(t), 0], 'w--')\n",
    "        ax.plot([0, rv_x.ppf(t)], [rv_x.ppf(t), 0], 'w--')\n",
    "        ax.plot([0, s_opt], [s_opt, 0], 'w--')\n",
    "    interact(plot_copula, t=(0, 1, .05), snr_x_db=(-5, 10, 1), snr_y_db=(-5, 10, 1))"
   ]
  },
  {
   "cell_type": "code",
   "execution_count": null,
   "metadata": {},
   "outputs": [],
   "source": [
    "plot_joint_density()"
   ]
  },
  {
   "cell_type": "markdown",
   "metadata": {},
   "source": [
    "## Influence of the Channel Qualities on the ZOC"
   ]
  },
  {
   "cell_type": "markdown",
   "metadata": {},
   "source": [
    "In the following, we show the influence of the channel qualities, i.e., SNR, of the two fading links on the achievable ZOC."
   ]
  },
  {
   "cell_type": "code",
   "execution_count": null,
   "metadata": {},
   "outputs": [],
   "source": [
    "def plot_zero_out_lambda():\n",
    "    snr_db = np.linspace(-5, 15, 50)\n",
    "    SNR_X_DB, SNR_Y_DB = np.meshgrid(snr_db, snr_db)\n",
    "    SNR_X = 10**(SNR_X_DB/10.)\n",
    "    SNR_Y = 10**(SNR_Y_DB/10.)\n",
    "    fig, ax = plt.subplots(1,1)\n",
    "    def plot_copula(t=.5, alpha_x=1, alpha_y=1):\n",
    "        LX = 1/(SNR_X*alpha_x)\n",
    "        LY = 1/(SNR_Y*alpha_y)\n",
    "        ax.clear()\n",
    "        ax.set_xlim([min(snr_db), max(snr_db)])\n",
    "        ax.set_ylim([min(snr_db), max(snr_db)])\n",
    "        ax.set_xlabel(\"$\\\\rho_x$ [dB]\")\n",
    "        ax.set_ylabel(\"$\\\\rho_y$ [dB]\")\n",
    "        capac = zero_outage_capacity(t, LX, LY)\n",
    "        ax.pcolormesh(SNR_X_DB, SNR_Y_DB, capac, vmin=0, vmax=5, alpha=.5, shading='auto')\n",
    "        if t > 0:\n",
    "            _contour = ax.contour(SNR_X_DB, SNR_Y_DB, capac, vmin=0)\n",
    "            ax.clabel(_contour, inline=1, fontsize=9)\n",
    "    interact(plot_copula, t=(0, 1, .01), alpha_x=(.5, 2, .1), alpha_y=(.5, 2, .1))"
   ]
  },
  {
   "cell_type": "code",
   "execution_count": null,
   "metadata": {},
   "outputs": [],
   "source": [
    "plot_zero_out_lambda()"
   ]
  }
 ],
 "metadata": {
  "kernelspec": {
   "display_name": "Python 3",
   "language": "python",
   "name": "python3"
  },
  "language_info": {
   "codemirror_mode": {
    "name": "ipython",
    "version": 3
   },
   "file_extension": ".py",
   "mimetype": "text/x-python",
   "name": "python",
   "nbconvert_exporter": "python",
   "pygments_lexer": "ipython3",
   "version": "3.9.1"
  }
 },
 "nbformat": 4,
 "nbformat_minor": 2
}
