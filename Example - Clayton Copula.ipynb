{
 "cells": [
  {
   "cell_type": "markdown",
   "metadata": {},
   "source": [
    "# Example - Positive ZOC with a Clayton Copula"
   ]
  },
  {
   "cell_type": "markdown",
   "metadata": {},
   "source": [
    "_Author:_ Karl-Ludwig Besser, Technische Universität Braunschweig\n",
    "\n",
    "This notebook is part of the paper \"On Fading Channel Dependency Structures with a Positive Zero-Outage Capacity\" ([arXiv:2102.02541](https://arxiv.org/abs/2102.02541)).  \n",
    "If you use any of this work, please cite the above paper."
   ]
  },
  {
   "cell_type": "markdown",
   "metadata": {},
   "source": [
    "> If you are not familiar with Jupyter notebooks: The easiest way to use this notebook interactively, is to hit `Kernel --> Restart & Run All` in the menu. This will execute all cells and enable the interactive elements of the plots.  \n",
    "> Alternatively, you can execute the cells one by one using Shift+Return"
   ]
  },
  {
   "cell_type": "code",
   "execution_count": null,
   "metadata": {},
   "outputs": [],
   "source": [
    "import numpy as np\n",
    "from scipy import stats\n",
    "from scipy import optimize\n",
    "%matplotlib widget\n",
    "import matplotlib.pyplot as plt\n",
    "from ipywidgets import interact"
   ]
  },
  {
   "cell_type": "code",
   "execution_count": null,
   "metadata": {},
   "outputs": [],
   "source": [
    "from copulas import clayton_samples"
   ]
  },
  {
   "cell_type": "code",
   "execution_count": null,
   "metadata": {},
   "outputs": [],
   "source": [
    "def plot_clayton_samples(num_samples=1000):\n",
    "    fig, axs = plt.subplots()\n",
    "    ux = np.random.rand(num_samples)\n",
    "    \n",
    "    def update(theta=0., snr_x=0., snr_y=0.):\n",
    "        snr_x = 10**(snr_x/10.)\n",
    "        snr_y = 10**(snr_y/10.)\n",
    "        rv_x = stats.expon(scale=snr_x)\n",
    "        rv_y = stats.expon(scale=snr_y)\n",
    "        x_samples, y_samples = clayton_samples(num_samples, theta=theta, u=ux, rv_x=rv_x, rv_y=rv_y)\n",
    "        axs.clear()\n",
    "        axs.scatter(x_samples, y_samples, fc='b', ec='k', s=10)\n",
    "        axs.set_xlabel(\"Channel Gains $X_1$\")\n",
    "        axs.set_ylabel(\"Channel Gains $X_2$\")\n",
    "        axs.set_xlim([0, 6])\n",
    "        axs.set_ylim([0, 6])\n",
    "        if snr_x == snr_y and theta != 0:\n",
    "            s_sc = rv_y.ppf(2**(1/theta))\n",
    "            axs.plot([s_sc, s_sc, 0], [0, s_sc, s_sc], 'r', label=\"SC\")\n",
    "            s_mrc = 2*s_sc\n",
    "            axs.plot([0, s_mrc], [s_mrc, 0], 'g', label=\"MRC\")\n",
    "            axs.legend()\n",
    "    interact(update, theta=(-1., 0., .05), snr_x=(-5, 5, .5), snr_y=(-5, 5, .5))"
   ]
  },
  {
   "cell_type": "markdown",
   "metadata": {},
   "source": [
    "In the following plot, you can see joint Rayleigh fading gain samples, i.e,. $X_1\\sim\\exp(1/\\rho_x)$ and $X_2\\sim\\exp(1/\\rho_y)$.\n",
    "The joint distribution follows an underlying Clayton copula with parameter $\\theta$.\n",
    "For $\\theta=0$, one obtains independent realizations of $X_1$ and $X_2$, while $\\theta<0$ indicates negative dependence."
   ]
  },
  {
   "cell_type": "code",
   "execution_count": null,
   "metadata": {},
   "outputs": [],
   "source": [
    "plot_clayton_samples()"
   ]
  },
  {
   "cell_type": "code",
   "execution_count": null,
   "metadata": {},
   "outputs": [],
   "source": [
    "def export_simulation_results(snr_db, num_samples, theta):\n",
    "    snr_x = 10**(snr_db/10.)\n",
    "    snr_y = 10**(snr_db/10.)\n",
    "    rv_x = stats.expon(scale=snr_x)\n",
    "    rv_y = stats.expon(scale=snr_y)\n",
    "    ux = np.random.rand(num_samples)\n",
    "    x_samples, y_samples = clayton_samples(num_samples, theta=theta, u=ux, rv_x=rv_x, rv_y=rv_y)\n",
    "    import pandas as pd\n",
    "    filename = \"samples_rayleigh_clayton_theta{:.2f}_snr{:.2f}.dat\".format(theta, snr_db)\n",
    "    df = pd.DataFrame.from_dict({\"x\": x_samples, \"y\": y_samples})\n",
    "    df.to_csv(filename, index=False, sep='\\t')"
   ]
  },
  {
   "cell_type": "code",
   "execution_count": null,
   "metadata": {},
   "outputs": [],
   "source": [
    "export_simulation_results(0., 2000, 0.)\n",
    "export_simulation_results(0., 2000, -0.75)\n",
    "export_simulation_results(0., 2000, -0.85)"
   ]
  }
 ],
 "metadata": {
  "kernelspec": {
   "display_name": "Python 3",
   "language": "python",
   "name": "python3"
  },
  "language_info": {
   "codemirror_mode": {
    "name": "ipython",
    "version": 3
   },
   "file_extension": ".py",
   "mimetype": "text/x-python",
   "name": "python",
   "nbconvert_exporter": "python",
   "pygments_lexer": "ipython3",
   "version": "3.9.5"
  }
 },
 "nbformat": 4,
 "nbformat_minor": 4
}
