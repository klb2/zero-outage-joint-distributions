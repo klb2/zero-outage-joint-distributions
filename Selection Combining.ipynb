{
 "cells": [
  {
   "cell_type": "markdown",
   "metadata": {},
   "source": [
    "# Selection Combining"
   ]
  },
  {
   "cell_type": "markdown",
   "metadata": {},
   "source": [
    "_Author:_ Karl-Ludwig Besser, Technische Universität Braunschweig\n",
    "\n",
    "This notebook is part of the paper \"On Fading Channel Dependency Structures with a Positive Zero-Outage Capacity\" (K.-L. Besser, P.-H. Lin, E. Jorswieck, IEEE Transactions on Communications, vol. 69, no. 10, pp. 6561-6574, Oct. 2021, [doi:10.1109/TCOMM.2021.3097755](https://doi.org/10.1109/TCOMM.2021.3097755), [arXiv:2102.02541](https://arxiv.org/abs/2102.02541)).  \n",
    "If you use any of this work, please cite the above paper."
   ]
  },
  {
   "cell_type": "markdown",
   "metadata": {},
   "source": [
    "> If you are not familiar with Jupyter notebooks: The easiest way to use this notebook interactively, is to hit `Kernel --> Restart & Run All` in the menu. This will execute all cells and enable the interactive elements of the plots.  \n",
    "> Alternatively, you can execute the cells one by one using Shift+Return"
   ]
  },
  {
   "cell_type": "code",
   "execution_count": null,
   "metadata": {},
   "outputs": [],
   "source": [
    "import numpy as np\n",
    "from scipy import stats\n",
    "from scipy import optimize\n",
    "%matplotlib widget\n",
    "import matplotlib.pyplot as plt\n",
    "from ipywidgets import interact"
   ]
  },
  {
   "cell_type": "code",
   "execution_count": null,
   "metadata": {},
   "outputs": [],
   "source": [
    "from selection_combining import max_zoc_sc_heterog, max_zoc_sc_homog\n",
    "from maximum_ratio_combining import max_zoc_inner_bound_mrc_homog, max_zoc_outer_bound_mrc_homog\n",
    "from utils import w_copula"
   ]
  },
  {
   "cell_type": "markdown",
   "metadata": {},
   "source": [
    "# Rayleigh Fading"
   ]
  },
  {
   "cell_type": "markdown",
   "metadata": {},
   "source": [
    "The first example is Rayleigh fading. In this case, the channel gains $|H_i|^2=X_i$ are exponentially distributed according to $X_i\\sim\\exp(1/\\rho_i)$, where $\\rho_i$ denotes the SNR of transmission link $i$."
   ]
  },
  {
   "cell_type": "code",
   "execution_count": null,
   "metadata": {},
   "outputs": [],
   "source": [
    "def plot_pdf_gain_rayleigh():\n",
    "    x = np.linspace(0, 10)\n",
    "    fig, ax = plt.subplots(1,1)\n",
    "    plot = ax.plot(x, np.zeros_like(x))[0]\n",
    "    ax.set_ylim([0, 1])\n",
    "    ax.set_xlim([min(x), max(x)])\n",
    "    ax.set_xlabel(\"x\")\n",
    "    ax.set_ylabel(\"PDF of the Channel Gain $\\\\mathbf{X}=\\\\rho\\\\left|h\\\\right|^2$\")\n",
    "    \n",
    "    def update_plot(snr_db=5.):\n",
    "        snr = 10**(snr_db/10.)\n",
    "        dist = stats.expon(scale=snr)\n",
    "        plot.set_ydata(dist.pdf(x))\n",
    "        \n",
    "    interact(update_plot, snr_db=(0., 10., .2))"
   ]
  },
  {
   "cell_type": "code",
   "execution_count": null,
   "metadata": {},
   "outputs": [],
   "source": [
    "plot_pdf_gain_rayleigh()"
   ]
  },
  {
   "cell_type": "markdown",
   "metadata": {},
   "source": [
    "## Two-Dimensional Heterogeneous Case"
   ]
  },
  {
   "cell_type": "code",
   "execution_count": null,
   "metadata": {},
   "outputs": [],
   "source": [
    "def plot_heterog_rayleigh():\n",
    "    a, stepsize = np.linspace(0, 5, 150, retstep=True)\n",
    "    A, B = np.meshgrid(a, a)\n",
    "    fig, ax = plt.subplots(1,1)\n",
    "    \n",
    "    def update_plot(snr_x_db=0, snr_y_db=0):\n",
    "        snr_x = 10**(snr_x_db/10.)\n",
    "        snr_y = 10**(snr_y_db/10.)\n",
    "        rv_x = stats.expon(scale=snr_x)\n",
    "        rv_y = stats.expon(scale=snr_y)\n",
    "        cdf_x = rv_x.cdf(A)\n",
    "        cdf_y = rv_y.cdf(B)\n",
    "        joint_cdf = w_copula(cdf_x, cdf_y)\n",
    "        ax.clear()\n",
    "        _gradx = np.gradient(joint_cdf, stepsize, axis=0)\n",
    "        joint_pdf = np.gradient(_gradx, stepsize, axis=1)\n",
    "        ax.set_xlim([0, 5])\n",
    "        ax.set_ylim([0, 5])\n",
    "        ax.pcolormesh(A, B, joint_pdf, vmin=0, shading=\"auto\")\n",
    "        ax.plot(a, rv_y.ppf(1-rv_x.cdf(a)), 'r-')\n",
    "        zoc_sc = max_zoc_sc_heterog([rv_x.ppf, rv_y.ppf])\n",
    "        s_zoc_sc = 2**zoc_sc - 1\n",
    "        ax.plot([0, s_zoc_sc, s_zoc_sc], [s_zoc_sc, s_zoc_sc, 0], 'w--')\n",
    "        \n",
    "    interact(update_plot, snr_x_db=(-5, 10, 1), snr_y_db=(-5, 10, 1))"
   ]
  },
  {
   "cell_type": "markdown",
   "metadata": {},
   "source": [
    "The below plot shows the joint distribution for two countermonotonic Rayleigh fading links $X_1, X_2$ with different SNRs.\n",
    "\n",
    "The white dashed line indicates the maximum $s_{\\text{SC}}=2^R-1$ corresponding to the maximum ZOC when SC is used at the receiver."
   ]
  },
  {
   "cell_type": "code",
   "execution_count": null,
   "metadata": {},
   "outputs": [],
   "source": [
    "plot_heterog_rayleigh()"
   ]
  },
  {
   "cell_type": "markdown",
   "metadata": {},
   "source": [
    "## N-Dimensional Homogeneous Case"
   ]
  },
  {
   "cell_type": "code",
   "execution_count": null,
   "metadata": {},
   "outputs": [],
   "source": [
    "def plot_homog_rayleigh():\n",
    "    n = np.arange(2, 21)\n",
    "    fig, ax = plt.subplots(1,1)\n",
    "    funcs = {\"Selection Combining\": max_zoc_sc_homog,\n",
    "             \"MRC - Inner Bound\": max_zoc_inner_bound_mrc_homog,\n",
    "             \"MRC - Outer Bound\": max_zoc_outer_bound_mrc_homog}\n",
    "    plots = {k: ax.plot(n, np.zeros_like(n), 'o-', label=k)[0] for k in funcs.keys()}\n",
    "    ax.legend()\n",
    "    ax.set_ylim([0, 10])\n",
    "    ax.set_xlabel(\"n\")\n",
    "    ax.set_ylabel(\"Max ZOC\")\n",
    "    \n",
    "    def update_plot(snr_db=5.):\n",
    "        snr = 10**(snr_db/10.)\n",
    "        dist = stats.expon(scale=snr)\n",
    "        for _name, _func in funcs.items():\n",
    "            plots[_name].set_ydata(_func(dist.ppf, n))\n",
    "        \n",
    "    interact(update_plot, snr_db=(0., 10., .2))"
   ]
  },
  {
   "cell_type": "markdown",
   "metadata": {},
   "source": [
    "For the $n$-dimensional case with homogeneous Rayleigh fading links, we can calculate the maximum ZOC when SC is used at the receiver.\n",
    "\n",
    "In the plot below, the maximum is shown over $n$ and compared to the bounds on the maximum ZOC when MRC is used at the receiver. Details can be found in the paper and the notebook [Maximum Ratio Combining.ipynb](Maximum%20Ratio%20Combining.ipynb)."
   ]
  },
  {
   "cell_type": "code",
   "execution_count": null,
   "metadata": {},
   "outputs": [],
   "source": [
    "plot_homog_rayleigh()"
   ]
  },
  {
   "cell_type": "markdown",
   "metadata": {},
   "source": [
    "# Nakagami-m Fading"
   ]
  },
  {
   "cell_type": "markdown",
   "metadata": {},
   "source": [
    "Similarly to the above [Rayleigh fading example](#Rayleigh-Fading), we provide interactive plots for Nakagami-$m$ fading below.\n",
    "\n",
    "In this case, the channel gain $X=\\rho|H|^2$ is distributed according to a Gamma distribution, $X\\sim\\Gamma(m, \\rho/m)$."
   ]
  },
  {
   "cell_type": "code",
   "execution_count": null,
   "metadata": {},
   "outputs": [],
   "source": [
    "def plot_pdf_gain_nakagami():\n",
    "    x = np.linspace(0, 10)\n",
    "    fig, ax = plt.subplots(1,1)\n",
    "    plot = ax.plot(x, np.zeros_like(x))[0]\n",
    "    ax.set_ylim([0, 1])\n",
    "    ax.set_xlim([min(x), max(x)])\n",
    "    ax.set_xlabel(\"x\")\n",
    "    ax.set_ylabel(\"PDF of the Channel Gain $\\\\mathbf{X}=\\\\rho\\\\left|h\\\\right|$\")\n",
    "    \n",
    "    def update_plot(snr_db=5., m=5):\n",
    "        snr = 10**(snr_db/10.)\n",
    "        dist = stats.gamma(a=m, scale=snr/m)\n",
    "        plot.set_ydata(dist.pdf(x))\n",
    "        \n",
    "    interact(update_plot, snr_db=(0., 10., .2), m=(1, 10, 1))"
   ]
  },
  {
   "cell_type": "code",
   "execution_count": null,
   "metadata": {},
   "outputs": [],
   "source": [
    "plot_pdf_gain_nakagami()"
   ]
  },
  {
   "cell_type": "markdown",
   "metadata": {},
   "source": [
    "## Two-Dimensional Heterogeneous Case"
   ]
  },
  {
   "cell_type": "code",
   "execution_count": null,
   "metadata": {},
   "outputs": [],
   "source": [
    "def plot_heterog_nakagami():\n",
    "    a, stepsize = np.linspace(0, 5, 150, retstep=True)\n",
    "    A, B = np.meshgrid(a, a)\n",
    "    fig, ax = plt.subplots(1,1)\n",
    "    \n",
    "    def update_plot(snr_x_db=0, snr_y_db=0, m=5):\n",
    "        snr_x = 10**(snr_x_db/10.)\n",
    "        snr_y = 10**(snr_y_db/10.)\n",
    "        rv_x = stats.gamma(a=m, scale=snr_x/m)\n",
    "        rv_y = stats.gamma(a=m, scale=snr_y/m)\n",
    "        cdf_x = rv_x.cdf(A)\n",
    "        cdf_y = rv_y.cdf(B)\n",
    "        joint_cdf = w_copula(cdf_x, cdf_y)\n",
    "        ax.clear()\n",
    "        _gradx = np.gradient(joint_cdf, stepsize, axis=0)\n",
    "        joint_pdf = np.gradient(_gradx, stepsize, axis=1)\n",
    "        ax.set_xlim([0, 5])\n",
    "        ax.set_ylim([0, 5])\n",
    "        ax.pcolormesh(A, B, joint_pdf, vmin=0, shading=\"auto\")\n",
    "        ax.plot(a, rv_y.ppf(1-rv_x.cdf(a)), 'r-')\n",
    "        zoc_sc = max_zoc_sc_heterog([rv_x.ppf, rv_y.ppf])\n",
    "        s_zoc_sc = 2**zoc_sc - 1\n",
    "        ax.plot([0, s_zoc_sc, s_zoc_sc], [s_zoc_sc, s_zoc_sc, 0], 'w--')\n",
    "        \n",
    "    interact(update_plot, snr_x_db=(-5, 10, 1), snr_y_db=(-5, 10, 1), m=(1, 10, 1))"
   ]
  },
  {
   "cell_type": "code",
   "execution_count": null,
   "metadata": {},
   "outputs": [],
   "source": [
    "plot_heterog_nakagami()"
   ]
  },
  {
   "cell_type": "markdown",
   "metadata": {},
   "source": [
    "## N-Dimensional Homogeneous Case"
   ]
  },
  {
   "cell_type": "code",
   "execution_count": null,
   "metadata": {},
   "outputs": [],
   "source": [
    "def plot_homog_nakagami():\n",
    "    n = np.arange(2, 21)\n",
    "    fig, ax = plt.subplots(1,1)\n",
    "    funcs = {\"Selection Combining\": max_zoc_sc_homog,\n",
    "             \"MRC - Inner Bound\": max_zoc_inner_bound_mrc_homog,\n",
    "             \"MRC - Outer Bound\": max_zoc_outer_bound_mrc_homog}\n",
    "    plots = {k: ax.plot(n, np.zeros_like(n), 'o-', label=k)[0] for k in funcs.keys()}\n",
    "    ax.legend()\n",
    "    ax.set_ylim([0, 10])\n",
    "    ax.set_xlabel(\"n\")\n",
    "    ax.set_ylabel(\"Max ZOC\")\n",
    "    \n",
    "    def update_plot(snr_db=5., m=3):\n",
    "        snr = 10**(snr_db/10.)\n",
    "        dist = stats.gamma(a=m, scale=snr/m)\n",
    "        for _name, _func in funcs.items():\n",
    "            plots[_name].set_ydata(_func(dist.ppf, n))\n",
    "        \n",
    "    interact(update_plot, snr_db=(0., 10., .2), m=(1, 10, 1))"
   ]
  },
  {
   "cell_type": "code",
   "execution_count": null,
   "metadata": {},
   "outputs": [],
   "source": [
    "plot_homog_nakagami()"
   ]
  }
 ],
 "metadata": {
  "kernelspec": {
   "display_name": "Python 3",
   "language": "python",
   "name": "python3"
  },
  "language_info": {
   "codemirror_mode": {
    "name": "ipython",
    "version": 3
   },
   "file_extension": ".py",
   "mimetype": "text/x-python",
   "name": "python",
   "nbconvert_exporter": "python",
   "pygments_lexer": "ipython3",
   "version": "3.9.7"
  }
 },
 "nbformat": 4,
 "nbformat_minor": 2
}
